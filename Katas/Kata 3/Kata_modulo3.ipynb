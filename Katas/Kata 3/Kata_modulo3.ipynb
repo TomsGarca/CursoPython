{
 "cells": [
  {
   "cell_type": "markdown",
   "metadata": {},
   "source": [
    "# Ejercicio - Escribir declaraciones if, else, y elif\n",
    "Primer codigo"
   ]
  },
  {
   "cell_type": "code",
   "execution_count": 4,
   "metadata": {},
   "outputs": [
    {
     "name": "stdout",
     "output_type": "stream",
     "text": [
      "Advertencia: La velocidad del asteroide es mayor a 25 km/s\n"
     ]
    }
   ],
   "source": [
    "asteroide = 49\n",
    "if asteroide > 25:\n",
    "    print('Advertencia: La velocidad del asteroide es mayor a 25 km/s')\n",
    "else:\n",
    "    print('Todo tranquilo :3')"
   ]
  },
  {
   "cell_type": "markdown",
   "metadata": {},
   "source": [
    "Segundo Codigo"
   ]
  },
  {
   "cell_type": "code",
   "execution_count": 5,
   "metadata": {},
   "outputs": [
    {
     "name": "stdout",
     "output_type": "stream",
     "text": [
      "Todo tranquilo :3\n"
     ]
    }
   ],
   "source": [
    "asteroide = 19\n",
    "if asteroide > 20:\n",
    "    print('Advertencia: La velocidad del asteroide es mayor a 20 km/s, busquenlo!')\n",
    "elif asteroide == 20:\n",
    "    print('Advertencia: La velocidad del asteroide es igual a 20 km/s, busquenlo!')\n",
    "else:\n",
    "    print('Todo tranquilo :3')"
   ]
  },
  {
   "cell_type": "markdown",
   "metadata": {},
   "source": [
    "Tercer Codigo"
   ]
  },
  {
   "cell_type": "code",
   "execution_count": null,
   "metadata": {},
   "outputs": [],
   "source": [
    "velAsteroide = 19\n",
    "tamAsteroide = 30\n",
    "if velAsteroide > 25 and tamAsteroide > 25:\n",
    "    print('Advertencia: Asteroide en camino!')\n",
    "elif velAsteroide >= 20:\n",
    "    print('Advertencia: Asteroide cerca, Busquenlo!')\n",
    "elif tamAsteroide < 25:\n",
    "    print('Todo tranquilo :3')\n",
    "else:\n",
    "    print('Todo trnquilo :3')"
   ]
  }
 ],
 "metadata": {
  "interpreter": {
   "hash": "cfb23bdb6fbae824321c9c5252af95807d4f88d761d400ddcfd9a2da229b27ac"
  },
  "kernelspec": {
   "display_name": "Python 3.9.7 64-bit",
   "language": "python",
   "name": "python3"
  },
  "language_info": {
   "codemirror_mode": {
    "name": "ipython",
    "version": 3
   },
   "file_extension": ".py",
   "mimetype": "text/x-python",
   "name": "python",
   "nbconvert_exporter": "python",
   "pygments_lexer": "ipython3",
   "version": "3.9.7"
  },
  "orig_nbformat": 4
 },
 "nbformat": 4,
 "nbformat_minor": 2
}
